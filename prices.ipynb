{
 "cells": [
  {
   "cell_type": "code",
   "execution_count": 86,
   "metadata": {
    "collapsed": false
   },
   "outputs": [],
   "source": [
    "import requests\n",
    "from bs4 import BeautifulSoup\n",
    "import codecs\n",
    "import csv\n",
    "import numpy as np\n",
    "\n",
    "def write_csv(new_line):\n",
    "    with open(\"prices.csv\", \"a\" ) as fout:\n",
    "        writer=csv.writer(fout)\n",
    "        writer.writerow((new_line))"
   ]
  },
  {
   "cell_type": "code",
   "execution_count": 87,
   "metadata": {
    "collapsed": false
   },
   "outputs": [
    {
     "name": "stdout",
     "output_type": "stream",
     "text": [
      "['https://www.calc.ru/dinamika-Gold.html?date=1970', 'https://www.calc.ru/dinamika-Gold.html?date=1971', 'https://www.calc.ru/dinamika-Gold.html?date=1972', 'https://www.calc.ru/dinamika-Gold.html?date=1973', 'https://www.calc.ru/dinamika-Gold.html?date=1974', 'https://www.calc.ru/dinamika-Gold.html?date=1975', 'https://www.calc.ru/dinamika-Gold.html?date=1976', 'https://www.calc.ru/dinamika-Gold.html?date=1977', 'https://www.calc.ru/dinamika-Gold.html?date=1978', 'https://www.calc.ru/dinamika-Gold.html?date=1979', 'https://www.calc.ru/dinamika-Gold.html?date=1980', 'https://www.calc.ru/dinamika-Gold.html?date=1981', 'https://www.calc.ru/dinamika-Gold.html?date=1982', 'https://www.calc.ru/dinamika-Gold.html?date=1983', 'https://www.calc.ru/dinamika-Gold.html?date=1984', 'https://www.calc.ru/dinamika-Gold.html?date=1985', 'https://www.calc.ru/dinamika-Gold.html?date=1986', 'https://www.calc.ru/dinamika-Gold.html?date=1987', 'https://www.calc.ru/dinamika-Gold.html?date=1988', 'https://www.calc.ru/dinamika-Gold.html?date=1989', 'https://www.calc.ru/dinamika-Gold.html?date=1990', 'https://www.calc.ru/dinamika-Gold.html?date=1991', 'https://www.calc.ru/dinamika-Gold.html?date=1992', 'https://www.calc.ru/dinamika-Gold.html?date=1993', 'https://www.calc.ru/dinamika-Gold.html?date=1994', 'https://www.calc.ru/dinamika-Gold.html?date=1995', 'https://www.calc.ru/dinamika-Gold.html?date=1996', 'https://www.calc.ru/dinamika-Gold.html?date=1997', 'https://www.calc.ru/dinamika-Gold.html?date=1998', 'https://www.calc.ru/dinamika-Gold.html?date=1999', 'https://www.calc.ru/dinamika-Gold.html?date=2000', 'https://www.calc.ru/dinamika-Gold.html?date=2001', 'https://www.calc.ru/dinamika-Gold.html?date=2002', 'https://www.calc.ru/dinamika-Gold.html?date=2003', 'https://www.calc.ru/dinamika-Gold.html?date=2004', 'https://www.calc.ru/dinamika-Gold.html?date=2005', 'https://www.calc.ru/dinamika-Gold.html?date=2006', 'https://www.calc.ru/dinamika-Gold.html?date=2007', 'https://www.calc.ru/dinamika-Gold.html?date=2008', 'https://www.calc.ru/dinamika-Gold.html?date=2009', 'https://www.calc.ru/dinamika-Gold.html?date=2010', 'https://www.calc.ru/dinamika-Gold.html?date=2011', 'https://www.calc.ru/dinamika-Gold.html?date=2012', 'https://www.calc.ru/dinamika-Gold.html?date=2013', 'https://www.calc.ru/dinamika-Gold.html?date=2014', 'https://www.calc.ru/dinamika-Gold.html?date=2015', 'https://www.calc.ru/dinamika-Gold.html?date=2016', 'https://www.calc.ru/dinamika-Gold.html?date=2017']\n"
     ]
    }
   ],
   "source": [
    "url='https://www.calc.ru/dinamika-Gold.html'\n",
    "     \n",
    "urls=[]\n",
    "\n",
    "base_url='https://www.calc.ru/dinamika-Gold.html?date='\n",
    "\n",
    "for i in range(1970,2018):\n",
    "    url_gen=base_url+str(i)\n",
    "    urls.append(url_gen)\n",
    "#print urls"
   ]
  },
  {
   "cell_type": "code",
   "execution_count": 88,
   "metadata": {
    "collapsed": false
   },
   "outputs": [],
   "source": [
    "data=[]\n",
    "for i in range(len(urls)):\n",
    "    html=requests.get(urls[i]).text\n",
    "    soup=BeautifulSoup(html, 'lxml')    \n",
    "    table=soup.find('table', class_='result_table').find_all('td')\n",
    "    for item in table:\n",
    "        data.append(item.text.strip())"
   ]
  },
  {
   "cell_type": "code",
   "execution_count": 89,
   "metadata": {
    "collapsed": false
   },
   "outputs": [],
   "source": [
    "date=[]\n",
    "price=[]\n",
    "for i in range(len(data)):\n",
    "    if i %2==0:\n",
    "        data[i]=codecs.encode(data[i], \"Windows-1251\")\n",
    "        date.append(data[i])\n",
    "    else:\n",
    "        price.append(data[i])    "
   ]
  },
  {
   "cell_type": "code",
   "execution_count": 91,
   "metadata": {
    "collapsed": false
   },
   "outputs": [
    {
     "name": "stdout",
     "output_type": "stream",
     "text": [
      "������ 1978\n"
     ]
    }
   ],
   "source": [
    "final=zip(date, price)\n",
    "print final[100][0]"
   ]
  },
  {
   "cell_type": "code",
   "execution_count": 93,
   "metadata": {
    "collapsed": false
   },
   "outputs": [],
   "source": [
    "for i in final:\n",
    "    write_csv(i)"
   ]
  },
  {
   "cell_type": "code",
   "execution_count": null,
   "metadata": {
    "collapsed": true
   },
   "outputs": [],
   "source": []
  }
 ],
 "metadata": {
  "anaconda-cloud": {},
  "kernelspec": {
   "display_name": "Python [Root]",
   "language": "python",
   "name": "Python [Root]"
  },
  "language_info": {
   "codemirror_mode": {
    "name": "ipython",
    "version": 2
   },
   "file_extension": ".py",
   "mimetype": "text/x-python",
   "name": "python",
   "nbconvert_exporter": "python",
   "pygments_lexer": "ipython2",
   "version": "2.7.12"
  }
 },
 "nbformat": 4,
 "nbformat_minor": 0
}
